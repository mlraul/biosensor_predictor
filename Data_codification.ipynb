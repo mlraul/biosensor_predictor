{
  "nbformat": 4,
  "nbformat_minor": 0,
  "metadata": {
    "colab": {
      "name": "Data_codification.ipynb",
      "provenance": [],
      "authorship_tag": "ABX9TyPpqJyBiXUJQeguHpWT/6nx",
      "include_colab_link": true
    },
    "kernelspec": {
      "name": "python3",
      "display_name": "Python 3"
    },
    "language_info": {
      "name": "python"
    }
  },
  "cells": [
    {
      "cell_type": "markdown",
      "metadata": {
        "id": "view-in-github",
        "colab_type": "text"
      },
      "source": [
        "<a href=\"https://colab.research.google.com/github/mlraul/biosensor_predictor/blob/main/Data_codification.ipynb\" target=\"_parent\"><img src=\"https://colab.research.google.com/assets/colab-badge.svg\" alt=\"Open In Colab\"/></a>"
      ]
    },
    {
      "cell_type": "markdown",
      "source": [
        "##Data codification\n",
        "In this notebook the different functions needed to code the data in order to make it interpretable for the network are presented."
      ],
      "metadata": {
        "id": "f1qvaF5iJcaj"
      }
    },
    {
      "cell_type": "code",
      "source": [
        "import numpy as np\n",
        "import pandas as pd\n",
        "\n",
        "!pip install kora -q\n",
        "import kora.install.rdkit\n",
        "from rdkit import Chem"
      ],
      "metadata": {
        "id": "Kq-I-cEPJ1Nl"
      },
      "execution_count": null,
      "outputs": []
    },
    {
      "cell_type": "markdown",
      "source": [
        "###Sequence codification\n",
        "A function to code a simple sequence using the one-hot encoding technique. A matrix of 1s and 0s is built. It has 20 rows, one for each amino acid. The amino acids sequence must be given as input."
      ],
      "metadata": {
        "id": "wR15hfy5MSoK"
      }
    },
    {
      "cell_type": "code",
      "source": [
        "def seq_cod (seq):\n",
        "    \n",
        "  aa_list = [\"A\",\"C\",\"D\",\"E\",\"F\",\"G\",\"H\",\"I\",\"K\",\"L\",\"M\",\"N\",\"P\",\"Q\",\"R\",\n",
        "             \"S\",\"T\",\"V\",\"W\",\"Y\"]\n",
        "  aam = np.zeros((20, 978)).astype(int)\n",
        "  pos = 0\n",
        "  for aa in seq:\n",
        "    if aa == \"*\" or aa == \"X\":\n",
        "      pos = pos + 1\n",
        "      continue\n",
        "    aa_idx = aa_list.index(aa)\n",
        "    aam[aa_idx][pos] = 1\n",
        "    pos = pos + 1\n",
        "  aam = aam.reshape((1,20,978))\n",
        "    \n",
        "  return aam"
      ],
      "metadata": {
        "id": "Al2usyMVMRxZ"
      },
      "execution_count": null,
      "outputs": []
    },
    {
      "cell_type": "markdown",
      "source": [
        "###Molecule codification\n",
        "A function to code a simple molecule getting its fingerprint. The SMILES format of the molecule must be given as input."
      ],
      "metadata": {
        "id": "O0WLaH7WUpqD"
      }
    },
    {
      "cell_type": "code",
      "source": [
        "def smi_cod(smi):\n",
        "    \n",
        "  ms = Chem.MolFromSmiles(smi)\n",
        "  fp = Chem.RDKFingerprint(ms, fpSize = 512).ToBitString()\n",
        "  fp = np.array([int(x) for x in list(fp)])\n",
        "  fp = fp.reshape((1,512))\n",
        "    \n",
        "  return fp"
      ],
      "metadata": {
        "id": "ku0yNby5U3Vj"
      },
      "execution_count": null,
      "outputs": []
    },
    {
      "cell_type": "markdown",
      "source": [
        "###Sequences matrix\n",
        "A function to code and arrange a set of sequences. The result is the matrix which will be used as input for the model. The database containing the sequences must be given as input."
      ],
      "metadata": {
        "id": "-1fza_MrU976"
      }
    },
    {
      "cell_type": "code",
      "source": [
        "def aam3d(db):\n",
        "    \n",
        "  aamatrix = seq_cod(db['AA_sequence'][0])\n",
        "  count = 0\n",
        "  for i in db['AA_sequence'][1:]:\n",
        "    aam = seq_cod(i)\n",
        "    aamatrix = np.concatenate((aamatrix, aam))\n",
        "    count += 1\n",
        "    print(count)\n",
        "        \n",
        "  return aamatrix"
      ],
      "metadata": {
        "id": "9K_13GkyU9gD"
      },
      "execution_count": null,
      "outputs": []
    },
    {
      "cell_type": "markdown",
      "source": [
        "###Molecules matrix\n",
        "A function to code and arrange a set of molecules. The result is the matrix which will be used as input for the model. The database containing the molecules must be given as input."
      ],
      "metadata": {
        "id": "Z7KsD4bjVdhI"
      }
    },
    {
      "cell_type": "code",
      "source": [
        "def fp3d(db):\n",
        "    \n",
        "  fpmatrix = smi_cod(db['SMILES'][0])\n",
        "  count = 0\n",
        "  for i in db['SMILES'][1:]:\n",
        "    fpm = smi_cod(i)\n",
        "    fpmatrix = np.concatenate((fpmatrix, fpm))\n",
        "    count += 1\n",
        "    print(count)\n",
        "    \n",
        "  return fpmatrix"
      ],
      "metadata": {
        "id": "kZzevfYJVsaK"
      },
      "execution_count": null,
      "outputs": []
    },
    {
      "cell_type": "markdown",
      "source": [
        ""
      ],
      "metadata": {
        "id": "43NUtH_VV2H2"
      }
    },
    {
      "cell_type": "code",
      "source": [
        ""
      ],
      "metadata": {
        "id": "FiZh0D1aV1p3"
      },
      "execution_count": null,
      "outputs": []
    }
  ]
}